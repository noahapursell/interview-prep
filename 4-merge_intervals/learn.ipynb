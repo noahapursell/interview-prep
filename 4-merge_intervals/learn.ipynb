{
 "cells": [
  {
   "cell_type": "code",
   "execution_count": 27,
   "id": "60cb5d2a",
   "metadata": {},
   "outputs": [],
   "source": [
    "def merge_intervals(intervals: list[tuple[int, int]]) -> list[tuple[int, int]]:\n",
    "    intervals.sort(key=lambda interval: interval[0])\n",
    "\n",
    "\n",
    "    current_open_spot = 0\n",
    "    current_interval_start_index = 0\n",
    "    while current_interval_start_index < len(intervals):\n",
    "        interval_start, interval_end = intervals[current_interval_start_index]\n",
    "\n",
    "        interval_end_index = current_interval_start_index\n",
    "        while interval_end_index < len(intervals) and intervals[interval_end_index][0] <= interval_end:\n",
    "            interval_end = max(interval_end, intervals[interval_end_index][1])\n",
    "            interval_end_index += 1\n",
    "\n",
    "        intervals[current_open_spot] = (interval_start, interval_end)\n",
    "        current_interval_start_index = interval_end_index\n",
    "        current_open_spot += 1\n",
    "\n",
    "    return intervals[:current_open_spot]"
   ]
  },
  {
   "cell_type": "code",
   "execution_count": 30,
   "id": "76c74575",
   "metadata": {},
   "outputs": [],
   "source": [
    "assert merge_intervals([(1,3),(2,6),(8,10),(15,18)]) == [(1,6),(8,10),(15,18)]\n",
    "assert merge_intervals([(1,4),(4,5)]) == [(1,5)]\n",
    "assert merge_intervals([(1,10),(2,3),(4,8)]) == [(1,10)]\n",
    "assert merge_intervals([(1,2),(3,4),(5,6)]) == [(1,2),(3,4),(5,6)]\n",
    "assert merge_intervals([(5,6),(1,3),(2,4)]) == [(1,4),(5,6)]\n"
   ]
  },
  {
   "cell_type": "code",
   "execution_count": 31,
   "id": "e5b9d342",
   "metadata": {},
   "outputs": [
    {
     "data": {
      "text/plain": [
       "[(1, 10)]"
      ]
     },
     "execution_count": 31,
     "metadata": {},
     "output_type": "execute_result"
    }
   ],
   "source": [
    "merge_intervals([(1,10),(2,3),(4,8)])"
   ]
  },
  {
   "cell_type": "code",
   "execution_count": 11,
   "id": "6543477a",
   "metadata": {},
   "outputs": [
    {
     "name": "stdout",
     "output_type": "stream",
     "text": [
      "True\n",
      "False\n"
     ]
    }
   ],
   "source": [
    "a = [(1,3), (2,6)]\n",
    "b = [(1,3), (2,6)]\n",
    "print(a == b)   # True\n",
    "print(a is b)   # False"
   ]
  },
  {
   "cell_type": "code",
   "execution_count": 38,
   "id": "25b5f37a",
   "metadata": {},
   "outputs": [],
   "source": [
    "def insert_interval(intervals: list[tuple[int, int]], new_interval: tuple[int, int]) -> list[tuple[int, int]]:\n",
    "    intervals.append(new_interval)\n",
    "\n",
    "    intervals.sort(key=lambda x: x[0])\n",
    "\n",
    "    output = []\n",
    "    interval_start_index = 0\n",
    "    while interval_start_index < len(intervals):\n",
    "        start_time, end_time = intervals[interval_start_index]\n",
    "        interval_end_index = interval_start_index\n",
    "\n",
    "        while interval_end_index + 1 < len(intervals) and intervals[interval_end_index + 1][0] <= end_time:\n",
    "            end_time = max(end_time, intervals[interval_end_index + 1][1])\n",
    "            interval_end_index += 1\n",
    "\n",
    "        output.append((start_time, end_time))\n",
    "        interval_start_index = interval_end_index + 1\n",
    "\n",
    "    return output"
   ]
  },
  {
   "cell_type": "code",
   "execution_count": 39,
   "id": "bef22a47",
   "metadata": {},
   "outputs": [],
   "source": [
    "# 1) Overlaps middle\n",
    "assert insert_interval([(1,3),(6,9)], (2,5)) == [(1,5),(6,9)]\n",
    "\n",
    "# 2) Overlaps multiple\n",
    "assert insert_interval([(1,2),(3,5),(6,7),(8,10),(12,16)], (4,8)) == [(1,2),(3,10),(12,16)]\n",
    "\n",
    "# 3) No overlaps, insert in middle\n",
    "assert insert_interval([(1,2),(5,7)], (3,4)) == [(1,2),(3,4),(5,7)]\n",
    "\n",
    "# 4) Insert at start\n",
    "assert insert_interval([(5,7)], (1,3)) == [(1,3),(5,7)]\n",
    "\n",
    "# 5) Insert at end\n",
    "assert insert_interval([(1,3)], (5,7)) == [(1,3),(5,7)]\n",
    "\n",
    "# 6) Insert covering all\n",
    "assert insert_interval([(2,3),(4,5),(6,7)], (1,8)) == [(1,8)]\n"
   ]
  },
  {
   "cell_type": "code",
   "execution_count": 43,
   "id": "c2c0bc61",
   "metadata": {},
   "outputs": [],
   "source": [
    "def min_meeting_rooms(intervals: list[tuple[int, int]]) -> int:\n",
    "    starts = sorted(s[0] for s in intervals)\n",
    "    ends = sorted(s[1] for s in intervals)\n",
    "\n",
    "    max_rooms = 0\n",
    "    sp = ep = 0\n",
    "    rooms = 0\n",
    "\n",
    "    while sp < len(intervals):\n",
    "        if starts[sp] < ends[ep]:\n",
    "            rooms += 1\n",
    "            sp += 1\n",
    "            max_rooms = max(max_rooms, rooms)\n",
    "        else:\n",
    "            rooms -= 1\n",
    "            ep += 1\n",
    "\n",
    "    return max_rooms\n",
    "           \n",
    "            "
   ]
  },
  {
   "cell_type": "code",
   "execution_count": 46,
   "id": "f7cbb809",
   "metadata": {},
   "outputs": [],
   "source": [
    "# 1) Some overlaps\n",
    "assert min_meeting_rooms([(0,30),(5,10),(15,20)]) == 2\n",
    "\n",
    "# 2) No overlaps\n",
    "assert min_meeting_rooms([(7,10),(2,4)]) == 1\n",
    "\n",
    "# 3) Chain overlaps\n",
    "assert min_meeting_rooms([(1,5),(2,6),(3,7),(4,8)]) == 4\n",
    "\n",
    "# 4) Nested meetings\n",
    "assert min_meeting_rooms([(1,10),(2,3),(4,5),(6,7)]) == 2\n",
    "\n",
    "# 5) Back-to-back (no extra room needed)\n",
    "assert min_meeting_rooms([(1,2),(2,3),(3,4)]) == 1\n",
    "\n",
    "# 6) Random scattered\n",
    "assert min_meeting_rooms([(1,3),(2,4),(4,6),(5,7),(8,9)]) == 2\n"
   ]
  },
  {
   "cell_type": "code",
   "execution_count": null,
   "id": "caf2f260",
   "metadata": {},
   "outputs": [],
   "source": []
  }
 ],
 "metadata": {
  "kernelspec": {
   "display_name": "leetcode-learn",
   "language": "python",
   "name": "python3"
  },
  "language_info": {
   "codemirror_mode": {
    "name": "ipython",
    "version": 3
   },
   "file_extension": ".py",
   "mimetype": "text/x-python",
   "name": "python",
   "nbconvert_exporter": "python",
   "pygments_lexer": "ipython3",
   "version": "3.12.11"
  }
 },
 "nbformat": 4,
 "nbformat_minor": 5
}
