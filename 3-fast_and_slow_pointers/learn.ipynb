{
 "cells": [
  {
   "cell_type": "code",
   "execution_count": 1,
   "id": "5e58d5e8",
   "metadata": {},
   "outputs": [
    {
     "name": "stdout",
     "output_type": "stream",
     "text": [
      "Hello world\n"
     ]
    }
   ],
   "source": [
    "print(\"Hello world\")"
   ]
  },
  {
   "cell_type": "code",
   "execution_count": null,
   "id": "bff66144",
   "metadata": {},
   "outputs": [],
   "source": [
    "class ListNode:\n",
    "    def __init__(self, val=0, next=None):\n",
    "        self.val = val\n",
    "        self.next = next\n"
   ]
  },
  {
   "cell_type": "code",
   "execution_count": null,
   "id": "92d339f3",
   "metadata": {},
   "outputs": [],
   "source": [
    "\n",
    "def detectCycle(head: ListNode) -> ListNode | None:\n",
    "    if head is None or head.next is None or head.next.next is None:\n",
    "        return None\n",
    "    slow = head.next\n",
    "    fast = head.next.next\n",
    "    while slow != fast and fast.next:\n",
    "        \n",
    "        slow = slow.next\n",
    "        fast = fast.next.next\n",
    "\n",
    "    if not fast.next or not fast:\n",
    "        return None\n",
    "\n",
    "    slow = head\n",
    "    while slow != fast:\n",
    "        assert slow.next is not None, \"issue\"\n",
    "        assert fast.next is not None, \"issue\"\n",
    "        slow = slow.next\n",
    "        fast = fast.next\n",
    "\n",
    "    return slow\n",
    "        "
   ]
  },
  {
   "cell_type": "code",
   "execution_count": 9,
   "id": "7a23517f",
   "metadata": {},
   "outputs": [
    {
     "name": "stdout",
     "output_type": "stream",
     "text": [
      "All test cases passed!\n"
     ]
    }
   ],
   "source": [
    "# Helper to create a linked list with a cycle\n",
    "def create_linked_list_with_cycle(values, pos):\n",
    "    head = ListNode(values[0])\n",
    "    nodes = [head]\n",
    "    current = head\n",
    "    for val in values[1:]:\n",
    "        node = ListNode(val)\n",
    "        nodes.append(node)\n",
    "        current.next = node\n",
    "        current = node\n",
    "    if pos != -1:\n",
    "        current.next = nodes[pos]\n",
    "    return head\n",
    "\n",
    "# Test Case 1: cycle at node 3\n",
    "head1 = create_linked_list_with_cycle([1, 2, 3, 4, 5, 6, 7], 2)\n",
    "\n",
    "# Test Case 2: no cycle\n",
    "head2 = create_linked_list_with_cycle([1, 2, 3, 4, 5], -1)\n",
    "\n",
    "# Test Case 3: cycle at head\n",
    "head3 = create_linked_list_with_cycle([1, 2, 3, 4], 0)\n",
    "\n",
    "# Expected outputs:\n",
    "# detectCycle(head1) → Node with value 3\n",
    "# detectCycle(head2) → None\n",
    "# detectCycle(head3) → Node with value 1\n",
    "# Assertions\n",
    "assert detectCycle(head1).val == 3, \"Test case 1 failed\"\n",
    "assert detectCycle(head2) is None, \"Test case 2 failed\"\n",
    "assert detectCycle(head3).val == 1, \"Test case 3 failed\"\n",
    "\n",
    "print(\"All test cases passed!\")"
   ]
  }
 ],
 "metadata": {
  "kernelspec": {
   "display_name": "leetcode-learn",
   "language": "python",
   "name": "python3"
  },
  "language_info": {
   "codemirror_mode": {
    "name": "ipython",
    "version": 3
   },
   "file_extension": ".py",
   "mimetype": "text/x-python",
   "name": "python",
   "nbconvert_exporter": "python",
   "pygments_lexer": "ipython3",
   "version": "3.12.11"
  }
 },
 "nbformat": 4,
 "nbformat_minor": 5
}
