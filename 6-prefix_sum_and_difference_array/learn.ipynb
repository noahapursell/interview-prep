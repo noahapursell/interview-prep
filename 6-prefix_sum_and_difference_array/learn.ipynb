{
 "cells": [
  {
   "cell_type": "code",
   "execution_count": 1,
   "id": "a88f5b12",
   "metadata": {},
   "outputs": [
    {
     "name": "stdout",
     "output_type": "stream",
     "text": [
      "Hello world\n"
     ]
    }
   ],
   "source": [
    "print(\"Hello world\")"
   ]
  },
  {
   "cell_type": "code",
   "execution_count": 1,
   "id": "ec01d1a1",
   "metadata": {},
   "outputs": [],
   "source": [
    "from collections import defaultdict\n",
    "\n",
    "def subarrays_div_by_k(nums: list[int], k: int) -> int:\n",
    "    \"\"\"\n",
    "    Returns the number of continuous subarrays whose sum is divisible by k.\n",
    "\n",
    "    :param nums: List of integers (can be negative).\n",
    "    :param k: Positive integer divisor.\n",
    "    :return: Count of qualifying subarrays.\n",
    "    \"\"\"\n",
    "\n",
    "    freq = defaultdict(int)\n",
    "    running_sum = 0\n",
    "    freq[0] = 1\n",
    "    num_cont_subarrays = 0\n",
    "    for num in nums:\n",
    "        running_sum += num\n",
    "        num_cont_subarrays += freq[running_sum % k]\n",
    "\n",
    "        freq[running_sum % k] += 1\n",
    "\n",
    "    return num_cont_subarrays"
   ]
  },
  {
   "cell_type": "code",
   "execution_count": 4,
   "id": "0a5335e3",
   "metadata": {},
   "outputs": [
    {
     "name": "stdout",
     "output_type": "stream",
     "text": [
      "All tests passed!\n"
     ]
    }
   ],
   "source": [
    "# Basic examples\n",
    "assert subarrays_div_by_k([4, 5, 0, -2, -3, 1], 5) == 7\n",
    "assert subarrays_div_by_k([1, 1, 1], 2) == 2\n",
    "\n",
    "# Negatives mixed in\n",
    "assert subarrays_div_by_k([-2, 2, -5, 7, 1], 3) == 4\n",
    "assert subarrays_div_by_k([-1, -1, 1], 2) == 2\n",
    "\n",
    "# All zeros (every subarray works)\n",
    "assert subarrays_div_by_k([0, 0, 0], 5) == 6  # 3*4/2\n",
    "\n",
    "# Single-element cases\n",
    "assert subarrays_div_by_k([5], 5) == 1\n",
    "assert subarrays_div_by_k([3], 5) == 0\n",
    "\n",
    "# Large k relative to sums\n",
    "assert subarrays_div_by_k([1, 2, 3], 10) == 0\n",
    "\n",
    "# Repeated numbers forming many valid subarrays\n",
    "assert subarrays_div_by_k([5, 5, 5, 5], 5) == 10  # 4*5/2\n",
    "\n",
    "# All subarrays divisible due to construction\n",
    "assert subarrays_div_by_k([7, -7, 14, -14], 7) == 10  # 4*5/2\n",
    "\n",
    "print(\"All tests passed!\")\n"
   ]
  },
  {
   "cell_type": "code",
   "execution_count": 15,
   "id": "8b7fe1f3",
   "metadata": {},
   "outputs": [],
   "source": [
    "from math import inf\n",
    "\n",
    "\n",
    "def max_after_range_additions(n: int, ops: list[list[int]]) -> int:\n",
    "    diffs = [0] * n\n",
    "\n",
    "    for l, r, val in ops:\n",
    "        diffs[l] += val\n",
    "        if r + 1 < n: diffs[r + 1] -= val\n",
    "\n",
    "    max_value = - inf\n",
    "    max_value_index = -1\n",
    "\n",
    "    running_sum = 0\n",
    "\n",
    "    print(diffs)\n",
    "\n",
    "    for i, value in enumerate(diffs):\n",
    "       running_sum += value\n",
    "       if running_sum > max_value:\n",
    "           max_value = running_sum\n",
    "           max_value_index = i\n",
    "\n",
    "    return int(max_value )\n",
    "    \n"
   ]
  },
  {
   "cell_type": "code",
   "execution_count": 16,
   "id": "797c0fdd",
   "metadata": {},
   "outputs": [
    {
     "name": "stdout",
     "output_type": "stream",
     "text": [
      "[5, -3, 1, 0, -2]\n",
      "[0, 0, 0, 0, 0, 0, 0, 0, 0, 0]\n",
      "[7, 0, 0, 0]\n",
      "[0, -2, 0, 0, 2]\n",
      "[-4, 0, 0]\n",
      "[3, -3, 4, -4, 2, 0, 0]\n",
      "[-1, -2, 5, -5, 2]\n",
      "[0, 6, -6]\n",
      "[0, 0, 3, 0, 0]\n",
      "[1000000000000, -2000000000000]\n",
      "[-5]\n",
      "All deterministic tests passed!\n"
     ]
    }
   ],
   "source": [
    "# Example from prompt\n",
    "assert max_after_range_additions(5, [[1, 3, 2], [2, 4, 1], [0, 0, 5]]) == 5\n",
    "\n",
    "# No operations -> all zeros\n",
    "assert max_after_range_additions(10, []) == 0\n",
    "\n",
    "# Single full-range update\n",
    "assert max_after_range_additions(4, [[0, 3, 7]]) == 7\n",
    "\n",
    "# Single negative update touching only a middle range; max stays 0 at untouched ends\n",
    "assert max_after_range_additions(5, [[1, 3, -2]]) == 0  # [0,-2,-2,-2,0]\n",
    "\n",
    "# All elements decreased -> max is negative\n",
    "assert max_after_range_additions(3, [[0, 2, -4]]) == -4  # [-4,-4,-4]\n",
    "\n",
    "# Disjoint ranges\n",
    "assert max_after_range_additions(7, [[0,0,3], [2,2,4], [4,6,2]]) == 4  # [3,0,4,0,2,2,2]\n",
    "\n",
    "# Overlaps with a targeted positive bump\n",
    "assert max_after_range_additions(5, [[0,4,-1], [1,3,-2], [2,2,5]]) == 2  # [-1,-3,2,-3,-1]\n",
    "\n",
    "# Multiple updates to the same single index\n",
    "assert max_after_range_additions(3, [[1,1,10], [1,1,-5], [1,1,1]]) == 6  # [0,6,0]\n",
    "\n",
    "# Boundary update ending at n-1\n",
    "assert max_after_range_additions(5, [[2,4,3]]) == 3  # [0,0,3,3,3]\n",
    "\n",
    "# Very large values (check int handling)\n",
    "assert max_after_range_additions(2, [[0,0,10**12], [1,1,-10**12]]) == 10**12\n",
    "\n",
    "# Single element, negative\n",
    "assert max_after_range_additions(1, [[0,0,-5]]) == -5\n",
    "\n",
    "print(\"All deterministic tests passed!\")\n"
   ]
  }
 ],
 "metadata": {
  "kernelspec": {
   "display_name": "leetcode-learn",
   "language": "python",
   "name": "python3"
  },
  "language_info": {
   "codemirror_mode": {
    "name": "ipython",
    "version": 3
   },
   "file_extension": ".py",
   "mimetype": "text/x-python",
   "name": "python",
   "nbconvert_exporter": "python",
   "pygments_lexer": "ipython3",
   "version": "3.12.11"
  }
 },
 "nbformat": 4,
 "nbformat_minor": 5
}
