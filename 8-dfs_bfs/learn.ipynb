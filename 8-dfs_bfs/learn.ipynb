{
 "cells": [
  {
   "cell_type": "code",
   "execution_count": 1,
   "id": "ac2467a8",
   "metadata": {},
   "outputs": [
    {
     "name": "stdout",
     "output_type": "stream",
     "text": [
      "hello world\n"
     ]
    }
   ],
   "source": [
    "print('hello world')"
   ]
  },
  {
   "cell_type": "code",
   "execution_count": 64,
   "id": "cfe2d3c8",
   "metadata": {},
   "outputs": [],
   "source": [
    "from collections import deque\n",
    "\n",
    "def oranges_rotting(grid: list[list[int]]) -> int:\n",
    "    num_to_orange = {\n",
    "        0: 'empty',\n",
    "        1: 'fresh',\n",
    "        2: 'rotten',\n",
    "    }\n",
    "\n",
    "    orange_to_num = {\n",
    "        'empty': 0,\n",
    "        'fresh': 1,\n",
    "        'rotten': 2\n",
    "    }\n",
    "\n",
    "    fresh_oranges = set()\n",
    "    queue = deque()\n",
    "    rotten_oranges = set()\n",
    "\n",
    "    for x in range(len(grid)):\n",
    "        for y in range(len(grid[x])):\n",
    "            match num_to_orange[grid[x][y]]:\n",
    "                case \"fresh\": \n",
    "                    fresh_oranges.add((x, y))\n",
    "                case \"rotten\": \n",
    "                    queue.append((x, y))\n",
    "                    rotten_oranges.add((x, y))\n",
    "\n",
    "    queue.append(None)\n",
    "\n",
    "    num_iterations = 0\n",
    "    next_value = queue.popleft()\n",
    "\n",
    "    def register_rotten_orange(x, y):\n",
    "            if not (x, y) in rotten_oranges:\n",
    "                grid[x][y] = orange_to_num['rotten'] \n",
    "                fresh_oranges.remove((x, y))\n",
    "                queue.append((x, y))\n",
    "                rotten_oranges.add((x, y))\n",
    "\n",
    "\n",
    "    while True:\n",
    "        if len(fresh_oranges) == 0:\n",
    "            return num_iterations\n",
    "\n",
    "\n",
    "        while next_value is not None:\n",
    "            # add all neighbor fresh oranges to queue\n",
    "            x, y = next_value\n",
    "\n",
    "            # check above\n",
    "            if y > 0 and num_to_orange[grid[x][y - 1]] == 'fresh':\n",
    "                register_rotten_orange(x, y-1)\n",
    "\n",
    "            # check right\n",
    "            if x < len(grid) - 1 and num_to_orange[grid[x + 1][y]] == 'fresh':\n",
    "                register_rotten_orange(x + 1, y)\n",
    "\n",
    "            #check bottom\n",
    "            if y < len(grid[0]) - 1 and num_to_orange[grid[x][y + 1]] == 'fresh':\n",
    "                register_rotten_orange(x, y + 1)\n",
    "\n",
    "            # check left\n",
    "            if x > 0 and num_to_orange[grid[x-1][y]] == 'fresh':\n",
    "                register_rotten_orange(x-1, y)\n",
    "\n",
    "            next_value = queue.popleft()\n",
    "\n",
    "        num_iterations += 1\n",
    "\n",
    "        if len(fresh_oranges) == 0:\n",
    "            return num_iterations\n",
    "        if len(queue) == 0:\n",
    "            return -1\n",
    "\n",
    "        queue.append(None)\n",
    "        next_value = queue.popleft()\n",
    "    \n",
    "    "
   ]
  },
  {
   "cell_type": "code",
   "execution_count": 66,
   "id": "76e8a568",
   "metadata": {},
   "outputs": [
    {
     "data": {
      "text/plain": [
       "2"
      ]
     },
     "execution_count": 66,
     "metadata": {},
     "output_type": "execute_result"
    }
   ],
   "source": [
    "oranges_rotting([[2,1,1],\n",
    "                        [1,1,1],\n",
    "                        [1,1,2]])"
   ]
  },
  {
   "cell_type": "code",
   "execution_count": 67,
   "id": "862b16e6",
   "metadata": {},
   "outputs": [
    {
     "name": "stdout",
     "output_type": "stream",
     "text": [
      "All tests passed!\n"
     ]
    }
   ],
   "source": [
    "# Basic example (classic)\n",
    "assert oranges_rotting([[2,1,1],\n",
    "                        [1,1,0],\n",
    "                        [0,1,1]]) == 4\n",
    "\n",
    "# Impossible: some fresh oranges are isolated by zeros\n",
    "assert oranges_rotting([[2,1,1],\n",
    "                        [0,1,1],\n",
    "                        [1,0,1]]) == -1\n",
    "\n",
    "# All already rotten -> 0 minutes\n",
    "assert oranges_rotting([[2,2,2],\n",
    "                        [2,2,2]]) == 0\n",
    "\n",
    "# No oranges at all -> 0 minutes\n",
    "assert oranges_rotting([[0,0],\n",
    "                        [0,0]]) == 0\n",
    "\n",
    "# Single cells\n",
    "assert oranges_rotting([[1]]) == -1\n",
    "assert oranges_rotting([[2]]) == 0\n",
    "assert oranges_rotting([[0]]) == 0\n",
    "\n",
    "# Multi-source BFS: two rotten corners speed things up\n",
    "assert oranges_rotting([[2,1,1],\n",
    "                        [1,1,1],\n",
    "                        [1,1,2]]) == 2\n",
    "\n",
    "# Single row, contiguous -> time equals length-1 to the far end\n",
    "assert oranges_rotting([[2,1,1,1,1]]) == 4\n",
    "\n",
    "# Single row with a barrier -> impossible\n",
    "assert oranges_rotting([[2,1,0,1]]) == -1\n",
    "\n",
    "print(\"All tests passed!\")\n"
   ]
  },
  {
   "cell_type": "code",
   "execution_count": null,
   "id": "3186bf1e",
   "metadata": {},
   "outputs": [],
   "source": []
  }
 ],
 "metadata": {
  "kernelspec": {
   "display_name": "leetcode-learn",
   "language": "python",
   "name": "python3"
  },
  "language_info": {
   "codemirror_mode": {
    "name": "ipython",
    "version": 3
   },
   "file_extension": ".py",
   "mimetype": "text/x-python",
   "name": "python",
   "nbconvert_exporter": "python",
   "pygments_lexer": "ipython3",
   "version": "3.12.11"
  }
 },
 "nbformat": 4,
 "nbformat_minor": 5
}
