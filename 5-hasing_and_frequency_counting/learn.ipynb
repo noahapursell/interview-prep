{
 "cells": [
  {
   "cell_type": "code",
   "execution_count": 2,
   "id": "4b6f48fa",
   "metadata": {},
   "outputs": [],
   "source": [
    "from collections import Counter"
   ]
  },
  {
   "cell_type": "code",
   "execution_count": 3,
   "id": "baa44b26",
   "metadata": {},
   "outputs": [],
   "source": [
    "a = Counter()"
   ]
  },
  {
   "cell_type": "code",
   "execution_count": 4,
   "id": "e90d5a80",
   "metadata": {},
   "outputs": [
    {
     "data": {
      "text/plain": [
       "Counter()"
      ]
     },
     "execution_count": 4,
     "metadata": {},
     "output_type": "execute_result"
    }
   ],
   "source": [
    "a"
   ]
  },
  {
   "cell_type": "code",
   "execution_count": 5,
   "id": "09d6aa80",
   "metadata": {},
   "outputs": [
    {
     "data": {
      "text/plain": [
       "Counter({' ': 10,\n",
       "         't': 6,\n",
       "         's': 6,\n",
       "         'i': 5,\n",
       "         'h': 3,\n",
       "         'e': 3,\n",
       "         'a': 2,\n",
       "         'o': 2,\n",
       "         'f': 1,\n",
       "         'c': 1,\n",
       "         'n': 1,\n",
       "         'd': 1})"
      ]
     },
     "execution_count": 5,
     "metadata": {},
     "output_type": "execute_result"
    }
   ],
   "source": [
    "Counter('this is a test to see if this can do this')"
   ]
  },
  {
   "cell_type": "code",
   "execution_count": null,
   "id": "3dfe19c0",
   "metadata": {},
   "outputs": [],
   "source": []
  },
  {
   "cell_type": "code",
   "execution_count": 15,
   "id": "55dbce4b",
   "metadata": {},
   "outputs": [],
   "source": [
    "a = Counter([1, 2, 3, 4, 5 , 1, 2 ,2])\n",
    "items = sorted(a.keys(), key=lambda x: a[x])"
   ]
  },
  {
   "cell_type": "code",
   "execution_count": 16,
   "id": "0bd0fcba",
   "metadata": {},
   "outputs": [
    {
     "data": {
      "text/plain": [
       "[3, 4, 5, 1, 2]"
      ]
     },
     "execution_count": 16,
     "metadata": {},
     "output_type": "execute_result"
    }
   ],
   "source": [
    "items"
   ]
  },
  {
   "cell_type": "code",
   "execution_count": 17,
   "id": "d158b7c3",
   "metadata": {},
   "outputs": [
    {
     "data": {
      "text/plain": [
       "Counter({2: 3, 1: 2, 3: 1, 4: 1, 5: 1})"
      ]
     },
     "execution_count": 17,
     "metadata": {},
     "output_type": "execute_result"
    }
   ],
   "source": [
    "a"
   ]
  },
  {
   "cell_type": "code",
   "execution_count": 21,
   "id": "44988db6",
   "metadata": {},
   "outputs": [],
   "source": [
    "from collections import Counter\n",
    "def top_k_frequent(nums: list[int], k: int) -> list[int]:\n",
    "    counts = Counter(nums)\n",
    "    top_counted_values = sorted(counts.keys(), key=lambda x: counts[x], reverse=True)\n",
    "    return top_counted_values[:k]"
   ]
  },
  {
   "cell_type": "code",
   "execution_count": 22,
   "id": "8374dd42",
   "metadata": {},
   "outputs": [],
   "source": [
    "# Basic\n",
    "assert set(top_k_frequent([1,1,1,2,2,3], 2)) == {1, 2}\n",
    "\n",
    "# Single answer\n",
    "assert set(top_k_frequent([1], 1)) == {1}\n",
    "\n",
    "# Distinct frequencies\n",
    "assert set(top_k_frequent([4,4,4,2,2,3], 1)) == {4}\n",
    "\n",
    "# Negatives & zeros\n",
    "assert set(top_k_frequent([0, -1, -1, -2, -2, -2], 2)) == {-2, -1}\n",
    "\n",
    "# k equals number of unique elements\n",
    "assert set(top_k_frequent([5,6,6,7,7,7], 3)) == {5,6,7}\n",
    "\n",
    "# Large uniform block + noise\n",
    "assert set(top_k_frequent([9]*10 + [8]*3 + [7]*3 + [6], 2)) == {9, 8} or set(top_k_frequent([9]*10 + [8]*3 + [7]*3 + [6], 2)) == {9, 7}\n"
   ]
  },
  {
   "cell_type": "code",
   "execution_count": null,
   "id": "63f3d234",
   "metadata": {},
   "outputs": [],
   "source": []
  }
 ],
 "metadata": {
  "kernelspec": {
   "display_name": "leetcode-learn",
   "language": "python",
   "name": "python3"
  },
  "language_info": {
   "codemirror_mode": {
    "name": "ipython",
    "version": 3
   },
   "file_extension": ".py",
   "mimetype": "text/x-python",
   "name": "python",
   "nbconvert_exporter": "python",
   "pygments_lexer": "ipython3",
   "version": "3.12.11"
  }
 },
 "nbformat": 4,
 "nbformat_minor": 5
}
